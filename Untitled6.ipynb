{
  "nbformat": 4,
  "nbformat_minor": 0,
  "metadata": {
    "colab": {
      "provenance": [],
      "authorship_tag": "ABX9TyO2d8NKEcaX2kvDSPMOrAHW",
      "include_colab_link": true
    },
    "kernelspec": {
      "name": "python3",
      "display_name": "Python 3"
    },
    "language_info": {
      "name": "python"
    }
  },
  "cells": [
    {
      "cell_type": "markdown",
      "metadata": {
        "id": "view-in-github",
        "colab_type": "text"
      },
      "source": [
        "<a href=\"https://colab.research.google.com/github/NALLAANILKUMAR/EliteTech_CS_01/blob/main/Untitled6.ipynb\" target=\"_parent\"><img src=\"https://colab.research.google.com/assets/colab-badge.svg\" alt=\"Open In Colab\"/></a>"
      ]
    },
    {
      "cell_type": "code",
      "execution_count": 1,
      "metadata": {
        "colab": {
          "base_uri": "https://localhost:8080/"
        },
        "id": "VUlOQRDm04k0",
        "outputId": "d4c442b6-2691-490b-b289-b02a71d0c968"
      },
      "outputs": [
        {
          "output_type": "stream",
          "name": "stdout",
          "text": [
            "Enter the message: anil\n",
            "Enter the shift value: 1\n",
            "Encrypted message: bojm\n",
            "Decrypted message: anil\n"
          ]
        }
      ],
      "source": [
        "def main():\n",
        "    message = input(\"Enter the message: \")\n",
        "    shift = int(input(\"Enter the shift value: \"))\n",
        "\n",
        "    # Encrypted message\n",
        "    encrypted_message = caesar_cipher(message, shift)\n",
        "    print(\"Encrypted message:\", encrypted_message)\n",
        "\n",
        "    # Decrypted message\n",
        "    decrypted_message = caesar_cipher(encrypted_message, -shift)\n",
        "    print(\"Decrypted message:\", decrypted_message)\n",
        "\n",
        "def caesar_cipher(text, shift):\n",
        "    result = \"\"\n",
        "    for char in text:\n",
        "        if char.isalpha():\n",
        "            is_upper = char.isupper()\n",
        "            shifted_char = chr((ord(char) - ord('A' if is_upper else 'a') + shift) % 26 + ord('A' if is_upper else 'a'))\n",
        "            result += shifted_char\n",
        "        else:\n",
        "            result += char\n",
        "    return result\n",
        "if __name__ == \"__main__\":\n",
        "    main()"
      ]
    }
  ]
}